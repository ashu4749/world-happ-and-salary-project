{
 "cells": [
  {
   "cell_type": "markdown",
   "id": "dda81278",
   "metadata": {},
   "source": [
    "# salary project"
   ]
  },
  {
   "cell_type": "markdown",
   "id": "b94f68bf",
   "metadata": {},
   "source": [
    "we are going to implement our salary prediction using the machine learning algorithm. This model predicts the salary of the employee based on the year of experince of employee. this is a regression problem which is solved using a LinearRegression. "
   ]
  },
  {
   "cell_type": "code",
   "execution_count": 2,
   "id": "5e8828e6",
   "metadata": {},
   "outputs": [],
   "source": [
    "import pandas as pd\n",
    "import numpy as np\n",
    "import matplotlib.pyplot as plt\n",
    "import seaborn as sns\n",
    "from sklearn.model_selection import train_test_split\n",
    "from sklearn.preprocessing import StandardScaler, MinMaxScaler\n",
    "from sklearn.linear_model import LinearRegression\n",
    "from sklearn.metrics import r2_score, mean_squared_error"
   ]
  },
  {
   "cell_type": "markdown",
   "id": "d2721bba",
   "metadata": {},
   "source": [
    "# Loading the data"
   ]
  },
  {
   "cell_type": "code",
   "execution_count": 3,
   "id": "b4901aaf",
   "metadata": {},
   "outputs": [],
   "source": [
    "data = pd.read_csv(r\"C:\\Users\\Ashwini\\Documents\\Salaries.csv\")"
   ]
  },
  {
   "cell_type": "code",
   "execution_count": 4,
   "id": "cd5d4854",
   "metadata": {},
   "outputs": [
    {
     "data": {
      "text/html": [
       "<div>\n",
       "<style scoped>\n",
       "    .dataframe tbody tr th:only-of-type {\n",
       "        vertical-align: middle;\n",
       "    }\n",
       "\n",
       "    .dataframe tbody tr th {\n",
       "        vertical-align: top;\n",
       "    }\n",
       "\n",
       "    .dataframe thead th {\n",
       "        text-align: right;\n",
       "    }\n",
       "</style>\n",
       "<table border=\"1\" class=\"dataframe\">\n",
       "  <thead>\n",
       "    <tr style=\"text-align: right;\">\n",
       "      <th></th>\n",
       "      <th>rank</th>\n",
       "      <th>discipline</th>\n",
       "      <th>yrs.since.phd</th>\n",
       "      <th>yrs.service</th>\n",
       "      <th>sex</th>\n",
       "      <th>salary</th>\n",
       "    </tr>\n",
       "  </thead>\n",
       "  <tbody>\n",
       "    <tr>\n",
       "      <th>0</th>\n",
       "      <td>Prof</td>\n",
       "      <td>B</td>\n",
       "      <td>19</td>\n",
       "      <td>18</td>\n",
       "      <td>Male</td>\n",
       "      <td>139750</td>\n",
       "    </tr>\n",
       "    <tr>\n",
       "      <th>1</th>\n",
       "      <td>Prof</td>\n",
       "      <td>B</td>\n",
       "      <td>20</td>\n",
       "      <td>16</td>\n",
       "      <td>Male</td>\n",
       "      <td>173200</td>\n",
       "    </tr>\n",
       "    <tr>\n",
       "      <th>2</th>\n",
       "      <td>AsstProf</td>\n",
       "      <td>B</td>\n",
       "      <td>4</td>\n",
       "      <td>3</td>\n",
       "      <td>Male</td>\n",
       "      <td>79750</td>\n",
       "    </tr>\n",
       "    <tr>\n",
       "      <th>3</th>\n",
       "      <td>Prof</td>\n",
       "      <td>B</td>\n",
       "      <td>45</td>\n",
       "      <td>39</td>\n",
       "      <td>Male</td>\n",
       "      <td>115000</td>\n",
       "    </tr>\n",
       "    <tr>\n",
       "      <th>4</th>\n",
       "      <td>Prof</td>\n",
       "      <td>B</td>\n",
       "      <td>40</td>\n",
       "      <td>41</td>\n",
       "      <td>Male</td>\n",
       "      <td>141500</td>\n",
       "    </tr>\n",
       "    <tr>\n",
       "      <th>...</th>\n",
       "      <td>...</td>\n",
       "      <td>...</td>\n",
       "      <td>...</td>\n",
       "      <td>...</td>\n",
       "      <td>...</td>\n",
       "      <td>...</td>\n",
       "    </tr>\n",
       "    <tr>\n",
       "      <th>392</th>\n",
       "      <td>Prof</td>\n",
       "      <td>A</td>\n",
       "      <td>33</td>\n",
       "      <td>30</td>\n",
       "      <td>Male</td>\n",
       "      <td>103106</td>\n",
       "    </tr>\n",
       "    <tr>\n",
       "      <th>393</th>\n",
       "      <td>Prof</td>\n",
       "      <td>A</td>\n",
       "      <td>31</td>\n",
       "      <td>19</td>\n",
       "      <td>Male</td>\n",
       "      <td>150564</td>\n",
       "    </tr>\n",
       "    <tr>\n",
       "      <th>394</th>\n",
       "      <td>Prof</td>\n",
       "      <td>A</td>\n",
       "      <td>42</td>\n",
       "      <td>25</td>\n",
       "      <td>Male</td>\n",
       "      <td>101738</td>\n",
       "    </tr>\n",
       "    <tr>\n",
       "      <th>395</th>\n",
       "      <td>Prof</td>\n",
       "      <td>A</td>\n",
       "      <td>25</td>\n",
       "      <td>15</td>\n",
       "      <td>Male</td>\n",
       "      <td>95329</td>\n",
       "    </tr>\n",
       "    <tr>\n",
       "      <th>396</th>\n",
       "      <td>AsstProf</td>\n",
       "      <td>A</td>\n",
       "      <td>8</td>\n",
       "      <td>4</td>\n",
       "      <td>Male</td>\n",
       "      <td>81035</td>\n",
       "    </tr>\n",
       "  </tbody>\n",
       "</table>\n",
       "<p>397 rows × 6 columns</p>\n",
       "</div>"
      ],
      "text/plain": [
       "         rank discipline  yrs.since.phd  yrs.service   sex  salary\n",
       "0        Prof          B             19           18  Male  139750\n",
       "1        Prof          B             20           16  Male  173200\n",
       "2    AsstProf          B              4            3  Male   79750\n",
       "3        Prof          B             45           39  Male  115000\n",
       "4        Prof          B             40           41  Male  141500\n",
       "..        ...        ...            ...          ...   ...     ...\n",
       "392      Prof          A             33           30  Male  103106\n",
       "393      Prof          A             31           19  Male  150564\n",
       "394      Prof          A             42           25  Male  101738\n",
       "395      Prof          A             25           15  Male   95329\n",
       "396  AsstProf          A              8            4  Male   81035\n",
       "\n",
       "[397 rows x 6 columns]"
      ]
     },
     "execution_count": 4,
     "metadata": {},
     "output_type": "execute_result"
    }
   ],
   "source": [
    "data"
   ]
  },
  {
   "cell_type": "markdown",
   "id": "ec952e23",
   "metadata": {},
   "source": [
    "# cheking null value is is there or not "
   ]
  },
  {
   "cell_type": "markdown",
   "id": "a9b879c2",
   "metadata": {},
   "source": [
    "Now perform an Exploratory data analysis. in Exploratory Data Analysis, firstly we check that there the information of the data, then describe the data which shows the mean value, standard deviation value, minimum value, maximum value ect.."
   ]
  },
  {
   "cell_type": "code",
   "execution_count": 5,
   "id": "c2cd025a",
   "metadata": {},
   "outputs": [
    {
     "data": {
      "text/plain": [
       "rank             0\n",
       "discipline       0\n",
       "yrs.since.phd    0\n",
       "yrs.service      0\n",
       "sex              0\n",
       "salary           0\n",
       "dtype: int64"
      ]
     },
     "execution_count": 5,
     "metadata": {},
     "output_type": "execute_result"
    }
   ],
   "source": [
    "data.isnull().sum()"
   ]
  },
  {
   "cell_type": "code",
   "execution_count": 6,
   "id": "fed9faf4",
   "metadata": {},
   "outputs": [
    {
     "name": "stdout",
     "output_type": "stream",
     "text": [
      "<class 'pandas.core.frame.DataFrame'>\n",
      "RangeIndex: 397 entries, 0 to 396\n",
      "Data columns (total 6 columns):\n",
      " #   Column         Non-Null Count  Dtype \n",
      "---  ------         --------------  ----- \n",
      " 0   rank           397 non-null    object\n",
      " 1   discipline     397 non-null    object\n",
      " 2   yrs.since.phd  397 non-null    int64 \n",
      " 3   yrs.service    397 non-null    int64 \n",
      " 4   sex            397 non-null    object\n",
      " 5   salary         397 non-null    int64 \n",
      "dtypes: int64(3), object(3)\n",
      "memory usage: 18.7+ KB\n"
     ]
    }
   ],
   "source": [
    "data.info()"
   ]
  },
  {
   "cell_type": "code",
   "execution_count": 7,
   "id": "955a254c",
   "metadata": {},
   "outputs": [
    {
     "data": {
      "text/html": [
       "<div>\n",
       "<style scoped>\n",
       "    .dataframe tbody tr th:only-of-type {\n",
       "        vertical-align: middle;\n",
       "    }\n",
       "\n",
       "    .dataframe tbody tr th {\n",
       "        vertical-align: top;\n",
       "    }\n",
       "\n",
       "    .dataframe thead th {\n",
       "        text-align: right;\n",
       "    }\n",
       "</style>\n",
       "<table border=\"1\" class=\"dataframe\">\n",
       "  <thead>\n",
       "    <tr style=\"text-align: right;\">\n",
       "      <th></th>\n",
       "      <th>yrs.since.phd</th>\n",
       "      <th>yrs.service</th>\n",
       "      <th>salary</th>\n",
       "    </tr>\n",
       "  </thead>\n",
       "  <tbody>\n",
       "    <tr>\n",
       "      <th>count</th>\n",
       "      <td>397.000000</td>\n",
       "      <td>397.000000</td>\n",
       "      <td>397.000000</td>\n",
       "    </tr>\n",
       "    <tr>\n",
       "      <th>mean</th>\n",
       "      <td>22.314861</td>\n",
       "      <td>17.614610</td>\n",
       "      <td>113706.458438</td>\n",
       "    </tr>\n",
       "    <tr>\n",
       "      <th>std</th>\n",
       "      <td>12.887003</td>\n",
       "      <td>13.006024</td>\n",
       "      <td>30289.038695</td>\n",
       "    </tr>\n",
       "    <tr>\n",
       "      <th>min</th>\n",
       "      <td>1.000000</td>\n",
       "      <td>0.000000</td>\n",
       "      <td>57800.000000</td>\n",
       "    </tr>\n",
       "    <tr>\n",
       "      <th>25%</th>\n",
       "      <td>12.000000</td>\n",
       "      <td>7.000000</td>\n",
       "      <td>91000.000000</td>\n",
       "    </tr>\n",
       "    <tr>\n",
       "      <th>50%</th>\n",
       "      <td>21.000000</td>\n",
       "      <td>16.000000</td>\n",
       "      <td>107300.000000</td>\n",
       "    </tr>\n",
       "    <tr>\n",
       "      <th>75%</th>\n",
       "      <td>32.000000</td>\n",
       "      <td>27.000000</td>\n",
       "      <td>134185.000000</td>\n",
       "    </tr>\n",
       "    <tr>\n",
       "      <th>max</th>\n",
       "      <td>56.000000</td>\n",
       "      <td>60.000000</td>\n",
       "      <td>231545.000000</td>\n",
       "    </tr>\n",
       "  </tbody>\n",
       "</table>\n",
       "</div>"
      ],
      "text/plain": [
       "       yrs.since.phd  yrs.service         salary\n",
       "count     397.000000   397.000000     397.000000\n",
       "mean       22.314861    17.614610  113706.458438\n",
       "std        12.887003    13.006024   30289.038695\n",
       "min         1.000000     0.000000   57800.000000\n",
       "25%        12.000000     7.000000   91000.000000\n",
       "50%        21.000000    16.000000  107300.000000\n",
       "75%        32.000000    27.000000  134185.000000\n",
       "max        56.000000    60.000000  231545.000000"
      ]
     },
     "execution_count": 7,
     "metadata": {},
     "output_type": "execute_result"
    }
   ],
   "source": [
    "data.describe()"
   ]
  },
  {
   "cell_type": "markdown",
   "id": "8be97205",
   "metadata": {},
   "source": [
    "# visualize data"
   ]
  },
  {
   "cell_type": "markdown",
   "id": "37aff150",
   "metadata": {},
   "source": [
    "now visualize the data yearsService and salary using the matlab function scatter."
   ]
  },
  {
   "cell_type": "code",
   "execution_count": 8,
   "id": "2da526ee",
   "metadata": {},
   "outputs": [
    {
     "data": {
      "image/png": "[encoded data removed]",
      "text/plain": [
       "<Figure size 432x288 with 1 Axes>"
      ]
     },
     "metadata": {
      "needs_background": "light"
     },
     "output_type": "display_data"
    }
   ],
   "source": [
    "plt.scatter( data['yrs.service'] ,data['salary'] )\n",
    "plt.xlabel('yrs.service')\n",
    "plt.ylabel('salary')\n",
    "plt.show()"
   ]
  },
  {
   "cell_type": "markdown",
   "id": "4085ea6e",
   "metadata": {},
   "source": [
    "now its time to prepare the data, divide the data into the independent and dependent features. X stores the independent feature ('yer.service') and y  stored the dependent features(salary\n",
    "\n",
    "\n",
    "Then split the data into the training and testing the train_test_split function which takes some of the parameters like X,Y, random_state, test_size. X is an independent feature and y is the dependent feature, random_state used for randomly selecting the data and test_size used for dividing the data into the training and testing. \n",
    "\n",
    "example: if test_size is 20% then automatically training size is 80%. train_test_split function return four parameters are X_train, Xtest, y_train, y_test. X_train stores the independent feature and these both x_train and y_train are used for train the model. X_test stores the independent feature and Y_test stores the dependent feature and these both X_test and y_test are used for test the model and evaluate the model."
   ]
  },
  {
   "cell_type": "markdown",
   "id": "90a004b6",
   "metadata": {},
   "source": [
    "# Prepare data"
   ]
  },
  {
   "cell_type": "code",
   "execution_count": 10,
   "id": "16d8d737",
   "metadata": {},
   "outputs": [],
   "source": [
    "x = data.drop('salary',axis=1)\n",
    "y = data['salary']"
   ]
  },
  {
   "cell_type": "code",
   "execution_count": 11,
   "id": "4ec2ae69",
   "metadata": {},
   "outputs": [
    {
     "data": {
      "text/plain": [
       "(397, 5)"
      ]
     },
     "execution_count": 11,
     "metadata": {},
     "output_type": "execute_result"
    }
   ],
   "source": [
    "x.shape"
   ]
  },
  {
   "cell_type": "code",
   "execution_count": 12,
   "id": "c8a74be7",
   "metadata": {},
   "outputs": [
    {
     "data": {
      "text/plain": [
       "(397,)"
      ]
     },
     "execution_count": 12,
     "metadata": {},
     "output_type": "execute_result"
    }
   ],
   "source": [
    "y.shape"
   ]
  },
  {
   "cell_type": "markdown",
   "id": "0b61475f",
   "metadata": {},
   "source": [
    "# Split data into train and test"
   ]
  },
  {
   "cell_type": "code",
   "execution_count": 16,
   "id": "e01c6df8",
   "metadata": {},
   "outputs": [
    {
     "data": {
      "text/plain": [
       "((317, 1), (80, 1), (317,), (80,))"
      ]
     },
     "execution_count": 16,
     "metadata": {},
     "output_type": "execute_result"
    }
   ],
   "source": [
    "X_train , X_test , Y_train , Y_test = train_test_split(X,y,random_state=101,test_size=0.2)\n",
    "X_train.shape , X_test.shape , Y_train.shape , Y_test.shape"
   ]
  },
  {
   "cell_type": "markdown",
   "id": "ed09b87d",
   "metadata": {},
   "source": [
    "now define tthe LinearRegression model with by default parameters and trained LinearRegression model with training data(X_train and y_train). And the the model using the testing data(X_test). and display the predicted and actual data."
   ]
  },
  {
   "cell_type": "markdown",
   "id": "3e4f9c8d",
   "metadata": {},
   "source": [
    "# Define LinearRegression Model"
   ]
  },
  {
   "cell_type": "code",
   "execution_count": 17,
   "id": "261f73eb",
   "metadata": {},
   "outputs": [
    {
     "data": {
      "text/plain": [
       "LinearRegression()"
      ]
     },
     "execution_count": 17,
     "metadata": {},
     "output_type": "execute_result"
    }
   ],
   "source": [
    "lr = LinearRegression()\n",
    "lr.fit(X_train, Y_train)"
   ]
  },
  {
   "cell_type": "code",
   "execution_count": null,
   "id": "6011efa1",
   "metadata": {},
   "outputs": [],
   "source": []
  },
  {
   "cell_type": "markdown",
   "id": "1351c432",
   "metadata": {},
   "source": [
    "# Test model"
   ]
  },
  {
   "cell_type": "code",
   "execution_count": 18,
   "id": "12d5a657",
   "metadata": {},
   "outputs": [
    {
     "data": {
      "text/plain": [
       "array([122583.39091848, 107907.22154907, 107907.22154907, 122583.39091848,\n",
       "       105810.62592487, 112100.41279747, 103714.03030066, 114197.00842167,\n",
       "       105810.62592487, 103015.1650926 , 126077.71695882, 114197.00842167,\n",
       "       118390.19967008, 107907.22154907, 107907.22154907, 126077.71695882,\n",
       "       107907.22154907, 108606.08675714, 106509.49113293, 114197.00842167,\n",
       "       115594.73883781, 113498.14321361, 110702.68238134, 107208.356341  ,\n",
       "       127475.44737495, 107208.356341  , 128873.17779109, 114895.87362974,\n",
       "       123981.12133462, 108606.08675714, 119787.93008621, 126776.58216689,\n",
       "       118390.19967008, 122583.39091848, 112799.27800554, 112100.41279747,\n",
       "       108606.08675714, 103015.1650926 , 127475.44737495, 132367.50383142,\n",
       "       119787.93008621, 101617.43467646, 120486.79529428, 105810.62592487,\n",
       "       108606.08675714, 118390.19967008, 113498.14321361, 121884.52571041,\n",
       "       100918.56946839, 123981.12133462, 119787.93008621, 100918.56946839,\n",
       "       129572.04299915, 105810.62592487, 123981.12133462, 121884.52571041,\n",
       "       105810.62592487, 103714.03030066, 108606.08675714, 128174.31258302,\n",
       "       103015.1650926 , 130969.77341529, 106509.49113293, 126077.71695882,\n",
       "       107208.356341  , 107208.356341  , 115594.73883781, 106509.49113293,\n",
       "       118390.19967008, 116992.46925394, 103015.1650926 , 100918.56946839,\n",
       "       100918.56946839, 106509.49113293, 103015.1650926 , 104412.89550873,\n",
       "       124679.98654268, 105810.62592487, 106509.49113293, 106509.49113293])"
      ]
     },
     "execution_count": 18,
     "metadata": {},
     "output_type": "execute_result"
    }
   ],
   "source": [
    "pred = lr.predict(X_test)\n",
    "pred"
   ]
  },
  {
   "cell_type": "markdown",
   "id": "ae17d899",
   "metadata": {},
   "source": [
    "now calculate the difference between the actual salary value and the predicted salary value and make a DataFrame and show the data of actual salary, predicted salary and the difference btween the actual salary and predicted salary"
   ]
  },
  {
   "cell_type": "code",
   "execution_count": 19,
   "id": "d143a1c4",
   "metadata": {},
   "outputs": [
    {
     "data": {
      "text/plain": [
       "38     125196\n",
       "187    107500\n",
       "221    145200\n",
       "109    131205\n",
       "91     105128\n",
       "        ...  \n",
       "181    141136\n",
       "17     103450\n",
       "89     107008\n",
       "57      90215\n",
       "255     83000\n",
       "Name: salary, Length: 80, dtype: int64"
      ]
     },
     "execution_count": 19,
     "metadata": {},
     "output_type": "execute_result"
    }
   ],
   "source": [
    "Y_test"
   ]
  },
  {
   "cell_type": "markdown",
   "id": "1fb4f526",
   "metadata": {},
   "source": [
    "# Check Actual data, Predicted data and different between the Actual and Predicted data"
   ]
  },
  {
   "cell_type": "code",
   "execution_count": 20,
   "id": "3fbc6efd",
   "metadata": {},
   "outputs": [],
   "source": [
    "diff = Y_test = pred"
   ]
  },
  {
   "cell_type": "code",
   "execution_count": 21,
   "id": "fc337d52",
   "metadata": {},
   "outputs": [
    {
     "data": {
      "text/html": [
       "<div>\n",
       "<style scoped>\n",
       "    .dataframe tbody tr th:only-of-type {\n",
       "        vertical-align: middle;\n",
       "    }\n",
       "\n",
       "    .dataframe tbody tr th {\n",
       "        vertical-align: top;\n",
       "    }\n",
       "\n",
       "    .dataframe thead th {\n",
       "        text-align: right;\n",
       "    }\n",
       "</style>\n",
       "<table border=\"1\" class=\"dataframe\">\n",
       "  <thead>\n",
       "    <tr style=\"text-align: right;\">\n",
       "      <th></th>\n",
       "      <th>Actual</th>\n",
       "      <th>Predicted</th>\n",
       "      <th>Difference</th>\n",
       "    </tr>\n",
       "  </thead>\n",
       "  <tbody>\n",
       "    <tr>\n",
       "      <th>0</th>\n",
       "      <td>122583.390918</td>\n",
       "      <td>122583.390918</td>\n",
       "      <td>122583.390918</td>\n",
       "    </tr>\n",
       "    <tr>\n",
       "      <th>1</th>\n",
       "      <td>107907.221549</td>\n",
       "      <td>107907.221549</td>\n",
       "      <td>107907.221549</td>\n",
       "    </tr>\n",
       "    <tr>\n",
       "      <th>2</th>\n",
       "      <td>107907.221549</td>\n",
       "      <td>107907.221549</td>\n",
       "      <td>107907.221549</td>\n",
       "    </tr>\n",
       "    <tr>\n",
       "      <th>3</th>\n",
       "      <td>122583.390918</td>\n",
       "      <td>122583.390918</td>\n",
       "      <td>122583.390918</td>\n",
       "    </tr>\n",
       "    <tr>\n",
       "      <th>4</th>\n",
       "      <td>105810.625925</td>\n",
       "      <td>105810.625925</td>\n",
       "      <td>105810.625925</td>\n",
       "    </tr>\n",
       "    <tr>\n",
       "      <th>...</th>\n",
       "      <td>...</td>\n",
       "      <td>...</td>\n",
       "      <td>...</td>\n",
       "    </tr>\n",
       "    <tr>\n",
       "      <th>75</th>\n",
       "      <td>104412.895509</td>\n",
       "      <td>104412.895509</td>\n",
       "      <td>104412.895509</td>\n",
       "    </tr>\n",
       "    <tr>\n",
       "      <th>76</th>\n",
       "      <td>124679.986543</td>\n",
       "      <td>124679.986543</td>\n",
       "      <td>124679.986543</td>\n",
       "    </tr>\n",
       "    <tr>\n",
       "      <th>77</th>\n",
       "      <td>105810.625925</td>\n",
       "      <td>105810.625925</td>\n",
       "      <td>105810.625925</td>\n",
       "    </tr>\n",
       "    <tr>\n",
       "      <th>78</th>\n",
       "      <td>106509.491133</td>\n",
       "      <td>106509.491133</td>\n",
       "      <td>106509.491133</td>\n",
       "    </tr>\n",
       "    <tr>\n",
       "      <th>79</th>\n",
       "      <td>106509.491133</td>\n",
       "      <td>106509.491133</td>\n",
       "      <td>106509.491133</td>\n",
       "    </tr>\n",
       "  </tbody>\n",
       "</table>\n",
       "<p>80 rows × 3 columns</p>\n",
       "</div>"
      ],
      "text/plain": [
       "           Actual      Predicted     Difference\n",
       "0   122583.390918  122583.390918  122583.390918\n",
       "1   107907.221549  107907.221549  107907.221549\n",
       "2   107907.221549  107907.221549  107907.221549\n",
       "3   122583.390918  122583.390918  122583.390918\n",
       "4   105810.625925  105810.625925  105810.625925\n",
       "..            ...            ...            ...\n",
       "75  104412.895509  104412.895509  104412.895509\n",
       "76  124679.986543  124679.986543  124679.986543\n",
       "77  105810.625925  105810.625925  105810.625925\n",
       "78  106509.491133  106509.491133  106509.491133\n",
       "79  106509.491133  106509.491133  106509.491133\n",
       "\n",
       "[80 rows x 3 columns]"
      ]
     },
     "execution_count": 21,
     "metadata": {},
     "output_type": "execute_result"
    }
   ],
   "source": [
    "pd.DataFrame(np.c_[Y_test , pred , diff] , columns=['Actual','Predicted','Difference'])"
   ]
  },
  {
   "cell_type": "markdown",
   "id": "a8ca994f",
   "metadata": {},
   "source": [
    "now visualize the training data, draw the best fit line and Plot all the training points of the training data and see the bias. Bias is the difference between the best fit line and the training point. This difference is called the bias(error)"
   ]
  },
  {
   "cell_type": "markdown",
   "id": "ff2e0843",
   "metadata": {},
   "source": [
    "# Visualize Model, that how it is performing on training data"
   ]
  },
  {
   "cell_type": "code",
   "execution_count": 22,
   "id": "4ba30dfc",
   "metadata": {},
   "outputs": [
    {
     "data": {
      "image/png": "[encoded data removed]",
      "text/plain": [
       "<Figure size 432x288 with 1 Axes>"
      ]
     },
     "metadata": {
      "needs_background": "light"
     },
     "output_type": "display_data"
    }
   ],
   "source": [
    "plt.scatter(X_train , Y_train , color='blue')\n",
    "plt.plot(X_train , lr.predict(X_train),color='red')\n",
    "plt.title('salary vs Experience ')\n",
    "plt.xlabel('yrs.service of Experience')\n",
    "plt.ylabel(\"salary\")\n",
    "plt.show()"
   ]
  },
  {
   "cell_type": "markdown",
   "id": "36f62306",
   "metadata": {},
   "source": [
    "Now visualize the testing data, draw the best fit line and Plot all the testing points of the testing data and see the bias."
   ]
  },
  {
   "cell_type": "markdown",
   "id": "48fd8fc8",
   "metadata": {},
   "source": [
    "# Visualize Model, that how it is performing on testing data"
   ]
  },
  {
   "cell_type": "code",
   "execution_count": 23,
   "id": "0467ffc0",
   "metadata": {},
   "outputs": [
    {
     "data": {
      "image/png": "[encoded data removed]",
      "text/plain": [
       "<Figure size 432x288 with 1 Axes>"
      ]
     },
     "metadata": {
      "needs_background": "light"
     },
     "output_type": "display_data"
    }
   ],
   "source": [
    "plt.scatter(X_test , Y_test,color='blue')\n",
    "plt.plot(X_test , lr.predict(X_test) , color='red')\n",
    "plt.title('salary vs Experience ')\n",
    "plt.xlabel('yrs.service of Experience')\n",
    "plt.ylabel(\"salary\")\n",
    "plt.show()\n"
   ]
  },
  {
   "cell_type": "markdown",
   "id": "bb28c4e2",
   "metadata": {},
   "source": [
    "# Evaluate"
   ]
  },
  {
   "cell_type": "markdown",
   "id": "68f02922",
   "metadata": {},
   "source": [
    "check the accuracy of the model which is approximately 98% accuracy on the testing data and also check the mean squared error and r2_score using the actual data and  predicted data."
   ]
  },
  {
   "cell_type": "code",
   "execution_count": 24,
   "id": "99532f3b",
   "metadata": {},
   "outputs": [
    {
     "data": {
      "text/plain": [
       "1.0"
      ]
     },
     "execution_count": 24,
     "metadata": {},
     "output_type": "execute_result"
    }
   ],
   "source": [
    "lr.score(X_test , Y_test)"
   ]
  },
  {
   "cell_type": "code",
   "execution_count": 25,
   "id": "0444868f",
   "metadata": {},
   "outputs": [],
   "source": [
    "rmse = np.sqrt(mean_squared_error(Y_test,pred))\n",
    "r2 = r2_score(Y_test,pred)"
   ]
  },
  {
   "cell_type": "code",
   "execution_count": 26,
   "id": "f9eaeada",
   "metadata": {},
   "outputs": [
    {
     "data": {
      "text/plain": [
       "(0.0, 1.0)"
      ]
     },
     "execution_count": 26,
     "metadata": {},
     "output_type": "execute_result"
    }
   ],
   "source": [
    "rmse , r2"
   ]
  },
  {
   "cell_type": "markdown",
   "id": "a7dc95a1",
   "metadata": {},
   "source": [
    "# Test on the custom data "
   ]
  },
  {
   "cell_type": "markdown",
   "id": "4651d6eb",
   "metadata": {},
   "source": [
    "now the last step is to test on the custom data so i gave 3 years of experience to my model and check what is the salary of the 3 years of experinced employee. my model predicts that the salary is 103015 .\n",
    "\n",
    "\n",
    "then again i gave 5 years of experince to my model and my model predicts that the salary is 1004412 ."
   ]
  },
  {
   "cell_type": "code",
   "execution_count": 35,
   "id": "40082a8f",
   "metadata": {},
   "outputs": [
    {
     "name": "stdout",
     "output_type": "stream",
     "text": [
      "salary of 3 year experince employee = 103015 \n"
     ]
    },
    {
     "name": "stderr",
     "output_type": "stream",
     "text": [
      "E:\\Users\\Ashwini\\lib\\site-packages\\sklearn\\base.py:450: UserWarning: X does not have valid feature names, but LinearRegression was fitted with feature names\n",
      "  warnings.warn(\n",
      "E:\\Users\\Ashwini\\lib\\site-packages\\sklearn\\base.py:450: UserWarning: X does not have valid feature names, but LinearRegression was fitted with feature names\n",
      "  warnings.warn(\n"
     ]
    }
   ],
   "source": [
    "exp = 3 \n",
    "lr.predict([[exp]])[0]\n",
    "print(f\"salary of {exp} year experince employee = {int(lr.predict([[exp]])[0])} \")"
   ]
  },
  {
   "cell_type": "code",
   "execution_count": 36,
   "id": "97a854a3",
   "metadata": {},
   "outputs": [
    {
     "name": "stdout",
     "output_type": "stream",
     "text": [
      "salary of 5 year experience employee = 104412 \n"
     ]
    },
    {
     "name": "stderr",
     "output_type": "stream",
     "text": [
      "E:\\Users\\Ashwini\\lib\\site-packages\\sklearn\\base.py:450: UserWarning: X does not have valid feature names, but LinearRegression was fitted with feature names\n",
      "  warnings.warn(\n",
      "E:\\Users\\Ashwini\\lib\\site-packages\\sklearn\\base.py:450: UserWarning: X does not have valid feature names, but LinearRegression was fitted with feature names\n",
      "  warnings.warn(\n"
     ]
    }
   ],
   "source": [
    "exp = 5\n",
    "lr.predict([[exp]])[0]\n",
    "print(f\"salary of {exp} year experience employee = {int(lr.predict([[exp]])[0])} \")"
   ]
  },
  {
   "cell_type": "code",
   "execution_count": null,
   "id": "f7cc0e03",
   "metadata": {},
   "outputs": [],
   "source": []
  }
 ],
 "metadata": {
  "kernelspec": {
   "display_name": "Python 3",
   "language": "python",
   "name": "python3"
  },
  "language_info": {
   "codemirror_mode": {
    "name": "ipython",
    "version": 3
   },
   "file_extension": ".py",
   "mimetype": "text/x-python",
   "name": "python",
   "nbconvert_exporter": "python",
   "pygments_lexer": "ipython3",
   "version": "3.8.8"
  }
 },
 "nbformat": 4,
 "nbformat_minor": 5
}
